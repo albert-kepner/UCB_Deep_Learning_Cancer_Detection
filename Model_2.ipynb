{
 "cells": [
  {
   "cell_type": "code",
   "execution_count": 1,
   "id": "454da935",
   "metadata": {},
   "outputs": [
    {
     "name": "stdout",
     "output_type": "stream",
     "text": [
      "C:\\Users\\e7zv5qo\\Jupyter_Notebooks\\UCB_Deep_Learning_03\\Module3\n"
     ]
    }
   ],
   "source": [
    "import os \n",
    "import sys \n",
    "import zipfile\n",
    "\n",
    "from skimage.io import imread\n",
    "\n",
    "import numpy as np\n",
    "import pandas as pd\n",
    "import tensorflow as tf\n",
    "\n",
    "import numpy as np\n",
    "def scale_image(image1):\n",
    "    im = image1.astype(np.float32)\n",
    "    im /= 255\n",
    "    return im\n",
    "\n",
    "print(os.getcwd())"
   ]
  },
  {
   "cell_type": "code",
   "execution_count": 2,
   "id": "537528f3",
   "metadata": {},
   "outputs": [
    {
     "name": "stdout",
     "output_type": "stream",
     "text": [
      "                                              id  label\n",
      "0       f38a6374c348f90b587e046aac6079959adf3835      0\n",
      "1       c18f2d887b7ae4f6742ee445113fa1aef383ed77      1\n",
      "2       755db6279dae599ebb4d39a9123cce439965282d      0\n",
      "3       bc3f0c64fb968ff4a8bd33af6971ecae77c75e08      0\n",
      "4       068aba587a4950175d04c680d38943fd488d6a9d      0\n",
      "...                                          ...    ...\n",
      "220020  53e9aa9d46e720bf3c6a7528d1fca3ba6e2e49f6      0\n",
      "220021  d4b854fe38b07fe2831ad73892b3cec877689576      1\n",
      "220022  3d046cead1a2a5cbe00b2b4847cfb7ba7cf5fe75      0\n",
      "220023  f129691c13433f66e1e0671ff1fe80944816f5a2      0\n",
      "220024  a81f84895ddcd522302ddf34be02eb1b3e5af1cb      1\n",
      "\n",
      "[220025 rows x 2 columns]\n",
      "['f38a6374c348f90b587e046aac6079959adf3835.tif', 'c18f2d887b7ae4f6742ee445113fa1aef383ed77.tif', '755db6279dae599ebb4d39a9123cce439965282d.tif', 'bc3f0c64fb968ff4a8bd33af6971ecae77c75e08.tif', '068aba587a4950175d04c680d38943fd488d6a9d.tif']\n"
     ]
    }
   ],
   "source": [
    "train_labels = pd.read_csv(\"./data/train_labels.csv\")\n",
    "print(train_labels)\n",
    "train_images = list(train_labels['id'])\n",
    "train_images = [ name + '.tif' for name in train_images]\n",
    "labels = list(train_labels['label'])\n",
    "print(train_images[0:5])"
   ]
  },
  {
   "cell_type": "code",
   "execution_count": 3,
   "id": "bc08fce5",
   "metadata": {},
   "outputs": [
    {
     "name": "stdout",
     "output_type": "stream",
     "text": [
      "210000\n",
      "210000\n",
      "10025\n",
      "10025\n",
      "[1, 0, 0, 0, 0, 0, 0, 1, 0, 0]\n",
      "0.40503124644926713\n"
     ]
    }
   ],
   "source": [
    "from sklearn.model_selection import train_test_split\n",
    "X_train, X_valid, y_train, y_valid = train_test_split(train_images, labels, random_state=0, train_size = 210000)\n",
    "print(len(X_train))\n",
    "print(len(y_train))\n",
    "print(len(X_valid))\n",
    "print(len(y_valid))\n",
    "print(y_train[0:10])\n",
    "print(np.mean(labels))"
   ]
  },
  {
   "cell_type": "code",
   "execution_count": 4,
   "id": "9db9e806",
   "metadata": {},
   "outputs": [],
   "source": [
    "def read_image_collection(file_list, file_path):\n",
    "    return np.array([\n",
    "        scale_image(imread(file_path+file_name))\n",
    "        for file_name in file_list])"
   ]
  },
  {
   "cell_type": "code",
   "execution_count": 5,
   "id": "72dd5c54",
   "metadata": {},
   "outputs": [
    {
     "name": "stdout",
     "output_type": "stream",
     "text": [
      "['b39869928d6bcdc4c3be03ac34b781186814a929.tif', 'c667053b8177533b69710ac12671a494f3446e74.tif', 'a265cdfc83c4c961bc4186638a3564dd5bb86c1c.tif', '8eb04aba813097c3abd141016eb6d3fd065dcd7a.tif', '1013bc0def9e87f75af3a2f9bfa6e3a2ccb7f732.tif']\n"
     ]
    }
   ],
   "source": [
    "print(X_train[0:5])"
   ]
  },
  {
   "cell_type": "code",
   "execution_count": 8,
   "id": "7e91a1dc",
   "metadata": {},
   "outputs": [
    {
     "name": "stdout",
     "output_type": "stream",
     "text": [
      "(210000, 96, 96, 3)\n",
      "(10025, 96, 96, 3)\n",
      "Ready\n"
     ]
    }
   ],
   "source": [
    "X_train_images = read_image_collection(X_train, './data/train/')\n",
    "print(X_train_images.shape)\n",
    "X_valid_images = read_image_collection(X_valid, './data/train/')\n",
    "print(X_valid_images.shape)\n",
    "print('Ready')"
   ]
  },
  {
   "cell_type": "code",
   "execution_count": 9,
   "id": "b7b5ea9c",
   "metadata": {},
   "outputs": [
    {
     "name": "stdout",
     "output_type": "stream",
     "text": [
      "23.22432\n"
     ]
    }
   ],
   "source": [
    "gbytes = 210000 * 96 * 96 * 3 * 4/ 10**9\n",
    "print(gbytes)"
   ]
  },
  {
   "cell_type": "code",
   "execution_count": 55,
   "id": "eb6258dc",
   "metadata": {},
   "outputs": [
    {
     "name": "stdout",
     "output_type": "stream",
     "text": [
      "Model: \"sequential_9\"\n",
      "_________________________________________________________________\n",
      "Layer (type)                 Output Shape              Param #   \n",
      "=================================================================\n",
      "conv2d_43 (Conv2D)           (None, 94, 94, 32)        896       \n",
      "_________________________________________________________________\n",
      "max_pooling2d_27 (MaxPooling (None, 47, 47, 32)        0         \n",
      "_________________________________________________________________\n",
      "conv2d_44 (Conv2D)           (None, 45, 45, 64)        18496     \n",
      "_________________________________________________________________\n",
      "conv2d_45 (Conv2D)           (None, 43, 43, 64)        36928     \n",
      "_________________________________________________________________\n",
      "max_pooling2d_28 (MaxPooling (None, 21, 21, 64)        0         \n",
      "_________________________________________________________________\n",
      "conv2d_46 (Conv2D)           (None, 19, 19, 128)       73856     \n",
      "_________________________________________________________________\n",
      "conv2d_47 (Conv2D)           (None, 17, 17, 128)       147584    \n",
      "_________________________________________________________________\n",
      "max_pooling2d_29 (MaxPooling (None, 8, 8, 128)         0         \n",
      "_________________________________________________________________\n",
      "flatten_9 (Flatten)          (None, 8192)              0         \n",
      "_________________________________________________________________\n",
      "dense_27 (Dense)             (None, 64)                524352    \n",
      "_________________________________________________________________\n",
      "dropout_18 (Dropout)         (None, 64)                0         \n",
      "_________________________________________________________________\n",
      "dense_28 (Dense)             (None, 32)                2080      \n",
      "_________________________________________________________________\n",
      "dropout_19 (Dropout)         (None, 32)                0         \n",
      "_________________________________________________________________\n",
      "dense_29 (Dense)             (None, 1)                 33        \n",
      "=================================================================\n",
      "Total params: 804,225\n",
      "Trainable params: 804,225\n",
      "Non-trainable params: 0\n",
      "_________________________________________________________________\n"
     ]
    }
   ],
   "source": [
    "from tensorflow import keras\n",
    "\n",
    "def modelArch2():\n",
    "    model = keras.models.Sequential([\n",
    "        keras.layers.Conv2D(32, 3, activation='relu', padding='valid',\n",
    "                           input_shape=[96,96,3]),\n",
    "        keras.layers.MaxPool2D(2),\n",
    "        keras.layers.Conv2D(64, 3, activation=tf.nn.relu, padding='valid'),\n",
    "        keras.layers.Conv2D(64, 3,activation=tf.nn.relu, padding='valid'),\n",
    "        keras.layers.MaxPool2D(2),\n",
    "        keras.layers.Conv2D(128, 3, activation=tf.nn.relu, padding='valid'),\n",
    "        keras.layers.Conv2D(128, 3, activation=tf.nn.relu, padding='valid'),\n",
    "        keras.layers.MaxPool2D(2),\n",
    "        keras.layers.Flatten(),\n",
    "        keras.layers.Dense(64, activation=tf.nn.relu),\n",
    "        keras.layers.Dropout(0.5),\n",
    "        keras.layers.Dense(32,  activation=tf.nn.relu),\n",
    "        keras.layers.Dropout(0.5),\n",
    "        keras.layers.Dense(1, activation=tf.nn.sigmoid),\n",
    "    ])\n",
    "    return model\n",
    "\n",
    "model = modelArch2()\n",
    "model.summary()\n",
    "opt = keras.optimizers.Adam(learning_rate=0.00020)\n",
    "loss = keras.losses.BinaryCrossentropy()\n",
    "model.compile(optimizer=opt, loss=loss, metrics=['accuracy'])"
   ]
  },
  {
   "cell_type": "code",
   "execution_count": 56,
   "id": "771119f3",
   "metadata": {},
   "outputs": [
    {
     "name": "stdout",
     "output_type": "stream",
     "text": [
      "Epoch 1/4\n",
      "6563/6563 [==============================] - 1567s 239ms/step - loss: 0.4434 - accuracy: 0.8077 - val_loss: 0.3384 - val_accuracy: 0.8596\n",
      "Epoch 2/4\n",
      "6563/6563 [==============================] - 1538s 234ms/step - loss: 0.3216 - accuracy: 0.8716 - val_loss: 0.2505 - val_accuracy: 0.8977\n",
      "Epoch 3/4\n",
      "6563/6563 [==============================] - 1536s 234ms/step - loss: 0.2658 - accuracy: 0.8965 - val_loss: 0.2162 - val_accuracy: 0.9120\n",
      "Epoch 4/4\n",
      "6563/6563 [==============================] - 1539s 235ms/step - loss: 0.2348 - accuracy: 0.9115 - val_loss: 0.2075 - val_accuracy: 0.9186\n"
     ]
    }
   ],
   "source": [
    "history = model.fit(x=X_train_images,y=np.array(y_train),verbose=1,validation_data=(X_valid_images,np.array(y_valid)),epochs=4)"
   ]
  },
  {
   "cell_type": "code",
   "execution_count": 58,
   "id": "5ab108a7",
   "metadata": {},
   "outputs": [
    {
     "name": "stdout",
     "output_type": "stream",
     "text": [
      "6563/6563 [==============================] - 1514s 231ms/step - loss: 0.2102 - accuracy: 0.9225 - val_loss: 0.2504 - val_accuracy: 0.9031\n"
     ]
    }
   ],
   "source": [
    "history = model.fit(x=X_train_images,y=np.array(y_train),verbose=1,validation_data=(X_valid_images,np.array(y_valid)),epochs=1)"
   ]
  },
  {
   "cell_type": "code",
   "execution_count": null,
   "id": "233682d9",
   "metadata": {},
   "outputs": [
    {
     "name": "stdout",
     "output_type": "stream",
     "text": [
      "1835/6563 [=======>......................] - ETA: 19:13 - loss: 0.1901 - accuracy: 0.9302"
     ]
    }
   ],
   "source": [
    "history = model.fit(x=X_train_images,y=np.array(y_train),verbose=1,validation_data=(X_valid_images,np.array(y_valid)),epochs=1)"
   ]
  },
  {
   "cell_type": "code",
   "execution_count": null,
   "id": "3e518c04",
   "metadata": {},
   "outputs": [],
   "source": [
    "history = model.fit(x=X_train_images,y=np.array(y_train),verbose=1,validation_data=(X_valid_images,np.array(y_valid)),epochs=1)"
   ]
  },
  {
   "cell_type": "code",
   "execution_count": 15,
   "id": "08ffad5d",
   "metadata": {},
   "outputs": [
    {
     "data": {
      "text/plain": [
       "['0b2ea2a822ad23fdb1b5dd26653da899fbd2c0d5.tif',\n",
       " '95596b92e5066c5c52466c90b69ff089b39f2737.tif',\n",
       " '248e6738860e2ebcf6258cdc1f32f299e0c76914.tif',\n",
       " '2c35657e312966e9294eac6841726ff3a748febf.tif',\n",
       " '145782eb7caa1c516acbe2eda34d9a3f31c41fd6.tif',\n",
       " '725dabe6ecccc68b958a2c7dd75bcbf362c7cb03.tif',\n",
       " 'aa0307865281d4484ddf8c637c348292968b93a7.tif',\n",
       " 'f4e5dc9c949920f1b3362982e15e99bf6f3ef83b.tif',\n",
       " '95e08c9cedc28a9b4a86f4fc1e06c1972134be08.tif',\n",
       " 'ee1f5345a8d4e28403b7e61b97b5f76c201ce9cb.tif']"
      ]
     },
     "execution_count": 15,
     "metadata": {},
     "output_type": "execute_result"
    }
   ],
   "source": [
    "sample = pd.read_csv('./data/sample_submission.csv')\n",
    "sample_names = list(sample['id'])\n",
    "sample_names[0:20]\n",
    "## train_images = [ name + '.tif' for name in train_images]\n",
    "test_images = [name + '.tif' for name in sample_names]\n",
    "test_images[0:10]"
   ]
  },
  {
   "cell_type": "code",
   "execution_count": 16,
   "id": "f9712e28",
   "metadata": {},
   "outputs": [
    {
     "name": "stdout",
     "output_type": "stream",
     "text": [
      "(57458, 96, 96, 3)\n"
     ]
    }
   ],
   "source": [
    "X_test_images = read_image_collection(test_images, './data/test/')\n",
    "print(X_test_images.shape)"
   ]
  },
  {
   "cell_type": "code",
   "execution_count": 29,
   "id": "045d6976",
   "metadata": {},
   "outputs": [
    {
     "name": "stdout",
     "output_type": "stream",
     "text": [
      "(57458, 96, 96, 3)\n"
     ]
    }
   ],
   "source": [
    "print(X_test_images.shape)"
   ]
  },
  {
   "cell_type": "code",
   "execution_count": 59,
   "id": "8e242053",
   "metadata": {},
   "outputs": [
    {
     "name": "stdout",
     "output_type": "stream",
     "text": [
      "[[0.10302615]\n",
      " [0.671317  ]\n",
      " [0.00189638]\n",
      " [0.08921656]\n",
      " [0.01227835]\n",
      " [0.79914474]\n",
      " [0.99820375]\n",
      " [0.7182771 ]\n",
      " [0.53930455]\n",
      " [0.6059831 ]]\n",
      "[[0]\n",
      " [1]\n",
      " [0]\n",
      " [0]\n",
      " [0]\n",
      " [1]\n",
      " [1]\n",
      " [1]\n",
      " [1]\n",
      " [1]]\n",
      "[25664]\n",
      "57458\n",
      "Submission 16\n"
     ]
    }
   ],
   "source": [
    "## predictions = (model.predict(X_test_images) > 0.5).astype(\"int32\")\n",
    "predict_proba = model.predict(X_test_images)\n",
    "## predictions[0:10]\n",
    "print(predict_proba[0:10])\n",
    "predictions = (predict_proba > 0.5).astype(\"int32\")\n",
    "print(predictions[0:10])\n",
    "print(sum(predictions))\n",
    "print(len(predictions))\n",
    "df = pd.DataFrame(sample_names)\n",
    "df.columns= ['id']\n",
    "df['label'] = predictions\n",
    "df\n",
    "df.to_csv('./data/submission16.csv',index=False)\n",
    "print('Submission 16')"
   ]
  },
  {
   "cell_type": "code",
   "execution_count": null,
   "id": "e59672b2",
   "metadata": {},
   "outputs": [],
   "source": []
  }
 ],
 "metadata": {
  "kernelspec": {
   "display_name": "Python 3 (ipykernel)",
   "language": "python",
   "name": "python3"
  },
  "language_info": {
   "codemirror_mode": {
    "name": "ipython",
    "version": 3
   },
   "file_extension": ".py",
   "mimetype": "text/x-python",
   "name": "python",
   "nbconvert_exporter": "python",
   "pygments_lexer": "ipython3",
   "version": "3.7.11"
  }
 },
 "nbformat": 4,
 "nbformat_minor": 5
}
