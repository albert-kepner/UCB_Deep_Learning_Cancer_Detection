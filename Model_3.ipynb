{
 "cells": [
  {
   "cell_type": "code",
   "execution_count": 1,
   "id": "454da935",
   "metadata": {},
   "outputs": [
    {
     "name": "stdout",
     "output_type": "stream",
     "text": [
      "C:\\Users\\e7zv5qo\\Jupyter_Notebooks\\UCB_Deep_Learning_03\\Module3\n"
     ]
    }
   ],
   "source": [
    "import os \n",
    "import sys \n",
    "import zipfile\n",
    "\n",
    "from skimage.io import imread\n",
    "\n",
    "import numpy as np\n",
    "import pandas as pd\n",
    "import tensorflow as tf\n",
    "\n",
    "import numpy as np\n",
    "def scale_image(image1):\n",
    "    im = image1.astype(np.float32)\n",
    "    im /= 255\n",
    "    return im\n",
    "\n",
    "print(os.getcwd())"
   ]
  },
  {
   "cell_type": "code",
   "execution_count": 2,
   "id": "537528f3",
   "metadata": {},
   "outputs": [
    {
     "name": "stdout",
     "output_type": "stream",
     "text": [
      "                                              id  label\n",
      "0       f38a6374c348f90b587e046aac6079959adf3835      0\n",
      "1       c18f2d887b7ae4f6742ee445113fa1aef383ed77      1\n",
      "2       755db6279dae599ebb4d39a9123cce439965282d      0\n",
      "3       bc3f0c64fb968ff4a8bd33af6971ecae77c75e08      0\n",
      "4       068aba587a4950175d04c680d38943fd488d6a9d      0\n",
      "...                                          ...    ...\n",
      "220020  53e9aa9d46e720bf3c6a7528d1fca3ba6e2e49f6      0\n",
      "220021  d4b854fe38b07fe2831ad73892b3cec877689576      1\n",
      "220022  3d046cead1a2a5cbe00b2b4847cfb7ba7cf5fe75      0\n",
      "220023  f129691c13433f66e1e0671ff1fe80944816f5a2      0\n",
      "220024  a81f84895ddcd522302ddf34be02eb1b3e5af1cb      1\n",
      "\n",
      "[220025 rows x 2 columns]\n",
      "['f38a6374c348f90b587e046aac6079959adf3835.tif', 'c18f2d887b7ae4f6742ee445113fa1aef383ed77.tif', '755db6279dae599ebb4d39a9123cce439965282d.tif', 'bc3f0c64fb968ff4a8bd33af6971ecae77c75e08.tif', '068aba587a4950175d04c680d38943fd488d6a9d.tif']\n"
     ]
    }
   ],
   "source": [
    "train_labels = pd.read_csv(\"./data/train_labels.csv\")\n",
    "print(train_labels)\n",
    "train_images = list(train_labels['id'])\n",
    "train_images = [ name + '.tif' for name in train_images]\n",
    "labels = list(train_labels['label'])\n",
    "print(train_images[0:5])"
   ]
  },
  {
   "cell_type": "code",
   "execution_count": 3,
   "id": "bc08fce5",
   "metadata": {},
   "outputs": [
    {
     "name": "stdout",
     "output_type": "stream",
     "text": [
      "210000\n",
      "210000\n",
      "10025\n",
      "10025\n",
      "[1, 0, 0, 0, 0, 0, 0, 1, 0, 0]\n",
      "0.40503124644926713\n"
     ]
    }
   ],
   "source": [
    "from sklearn.model_selection import train_test_split\n",
    "X_train, X_valid, y_train, y_valid = train_test_split(train_images, labels, random_state=0, train_size = 210000)\n",
    "print(len(X_train))\n",
    "print(len(y_train))\n",
    "print(len(X_valid))\n",
    "print(len(y_valid))\n",
    "print(y_train[0:10])\n",
    "print(np.mean(labels))"
   ]
  },
  {
   "cell_type": "code",
   "execution_count": 4,
   "id": "9db9e806",
   "metadata": {},
   "outputs": [],
   "source": [
    "def read_image_collection(file_list, file_path):\n",
    "    return np.array([\n",
    "        scale_image(imread(file_path+file_name))\n",
    "        for file_name in file_list])"
   ]
  },
  {
   "cell_type": "code",
   "execution_count": 5,
   "id": "72dd5c54",
   "metadata": {},
   "outputs": [
    {
     "name": "stdout",
     "output_type": "stream",
     "text": [
      "['b39869928d6bcdc4c3be03ac34b781186814a929.tif', 'c667053b8177533b69710ac12671a494f3446e74.tif', 'a265cdfc83c4c961bc4186638a3564dd5bb86c1c.tif', '8eb04aba813097c3abd141016eb6d3fd065dcd7a.tif', '1013bc0def9e87f75af3a2f9bfa6e3a2ccb7f732.tif']\n"
     ]
    }
   ],
   "source": [
    "print(X_train[0:5])"
   ]
  },
  {
   "cell_type": "code",
   "execution_count": 8,
   "id": "7e91a1dc",
   "metadata": {},
   "outputs": [
    {
     "name": "stdout",
     "output_type": "stream",
     "text": [
      "(210000, 96, 96, 3)\n",
      "(10025, 96, 96, 3)\n",
      "Ready\n"
     ]
    }
   ],
   "source": [
    "X_train_images = read_image_collection(X_train, './data/train/')\n",
    "print(X_train_images.shape)\n",
    "X_valid_images = read_image_collection(X_valid, './data/train/')\n",
    "print(X_valid_images.shape)\n",
    "print('Ready')"
   ]
  },
  {
   "cell_type": "code",
   "execution_count": 9,
   "id": "b7b5ea9c",
   "metadata": {},
   "outputs": [
    {
     "name": "stdout",
     "output_type": "stream",
     "text": [
      "23.22432\n"
     ]
    }
   ],
   "source": [
    "gbytes = 210000 * 96 * 96 * 3 * 4/ 10**9\n",
    "print(gbytes)"
   ]
  },
  {
   "cell_type": "code",
   "execution_count": 42,
   "id": "eb6258dc",
   "metadata": {},
   "outputs": [
    {
     "name": "stdout",
     "output_type": "stream",
     "text": [
      "Model: \"sequential_7\"\n",
      "_________________________________________________________________\n",
      "Layer (type)                 Output Shape              Param #   \n",
      "=================================================================\n",
      "conv2d_35 (Conv2D)           (None, 94, 94, 32)        896       \n",
      "_________________________________________________________________\n",
      "batch_normalization_11 (Batc (None, 94, 94, 32)        128       \n",
      "_________________________________________________________________\n",
      "max_pooling2d_21 (MaxPooling (None, 47, 47, 32)        0         \n",
      "_________________________________________________________________\n",
      "conv2d_36 (Conv2D)           (None, 45, 45, 64)        18496     \n",
      "_________________________________________________________________\n",
      "batch_normalization_12 (Batc (None, 45, 45, 64)        256       \n",
      "_________________________________________________________________\n",
      "conv2d_37 (Conv2D)           (None, 43, 43, 64)        36928     \n",
      "_________________________________________________________________\n",
      "batch_normalization_13 (Batc (None, 43, 43, 64)        256       \n",
      "_________________________________________________________________\n",
      "max_pooling2d_22 (MaxPooling (None, 21, 21, 64)        0         \n",
      "_________________________________________________________________\n",
      "conv2d_38 (Conv2D)           (None, 19, 19, 128)       73856     \n",
      "_________________________________________________________________\n",
      "batch_normalization_14 (Batc (None, 19, 19, 128)       512       \n",
      "_________________________________________________________________\n",
      "conv2d_39 (Conv2D)           (None, 17, 17, 128)       147584    \n",
      "_________________________________________________________________\n",
      "batch_normalization_15 (Batc (None, 17, 17, 128)       512       \n",
      "_________________________________________________________________\n",
      "max_pooling2d_23 (MaxPooling (None, 8, 8, 128)         0         \n",
      "_________________________________________________________________\n",
      "flatten_7 (Flatten)          (None, 8192)              0         \n",
      "_________________________________________________________________\n",
      "dense_21 (Dense)             (None, 64)                524352    \n",
      "_________________________________________________________________\n",
      "dropout_14 (Dropout)         (None, 64)                0         \n",
      "_________________________________________________________________\n",
      "dense_22 (Dense)             (None, 32)                2080      \n",
      "_________________________________________________________________\n",
      "dropout_15 (Dropout)         (None, 32)                0         \n",
      "_________________________________________________________________\n",
      "dense_23 (Dense)             (None, 1)                 33        \n",
      "=================================================================\n",
      "Total params: 805,889\n",
      "Trainable params: 805,057\n",
      "Non-trainable params: 832\n",
      "_________________________________________________________________\n"
     ]
    }
   ],
   "source": [
    "from tensorflow import keras\n",
    "\n",
    "def modelArch3():\n",
    "    model = keras.models.Sequential([\n",
    "        keras.layers.Conv2D(32, 3, activation='relu', padding='valid',\n",
    "                           input_shape=[96,96,3]),\n",
    "        keras.layers.BatchNormalization(),\n",
    "        keras.layers.MaxPool2D(2),\n",
    "        keras.layers.Conv2D(64, 3, activation=tf.nn.relu, padding='valid'),\n",
    "        keras.layers.BatchNormalization(),\n",
    "        keras.layers.Conv2D(64, 3,activation=tf.nn.relu, padding='valid'),\n",
    "        keras.layers.BatchNormalization(),\n",
    "        keras.layers.MaxPool2D(2),\n",
    "        keras.layers.Conv2D(128, 3, activation=tf.nn.relu, padding='valid'),\n",
    "        keras.layers.BatchNormalization(),\n",
    "        keras.layers.Conv2D(128, 3, activation=tf.nn.relu, padding='valid'),\n",
    "        keras.layers.BatchNormalization(),\n",
    "        keras.layers.MaxPool2D(2),\n",
    "        keras.layers.Flatten(),\n",
    "        keras.layers.Dense(64, activation=tf.nn.relu),\n",
    "        keras.layers.Dropout(0.5),\n",
    "        keras.layers.Dense(32,  activation=tf.nn.relu),\n",
    "        keras.layers.Dropout(0.5),\n",
    "        keras.layers.Dense(1, activation=tf.nn.sigmoid),\n",
    "    ])\n",
    "    return model\n",
    "\n",
    "model = modelArch3()\n",
    "model.summary()"
   ]
  },
  {
   "cell_type": "code",
   "execution_count": 43,
   "id": "a3e44c62",
   "metadata": {},
   "outputs": [],
   "source": [
    "opt = keras.optimizers.Adam(learning_rate=0.00020)\n",
    "loss = keras.losses.BinaryCrossentropy()\n",
    "model.compile(optimizer=opt, loss=loss, metrics=['accuracy'])"
   ]
  },
  {
   "cell_type": "code",
   "execution_count": 44,
   "id": "771119f3",
   "metadata": {},
   "outputs": [
    {
     "name": "stdout",
     "output_type": "stream",
     "text": [
      "Epoch 1/2\n",
      "6563/6563 [==============================] - 2826s 431ms/step - loss: 0.4503 - accuracy: 0.7924 - val_loss: 0.3544 - val_accuracy: 0.8424\n",
      "Epoch 2/2\n",
      "6563/6563 [==============================] - 2823s 430ms/step - loss: 0.3211 - accuracy: 0.8717 - val_loss: 0.2698 - val_accuracy: 0.8982\n"
     ]
    }
   ],
   "source": [
    "history = model.fit(x=X_train_images,y=np.array(y_train),verbose=1,validation_data=(X_valid_images,np.array(y_valid)),epochs=2)"
   ]
  },
  {
   "cell_type": "code",
   "execution_count": 46,
   "id": "5ab108a7",
   "metadata": {},
   "outputs": [
    {
     "name": "stdout",
     "output_type": "stream",
     "text": [
      "6563/6563 [==============================] - 2811s 428ms/step - loss: 0.2603 - accuracy: 0.9025 - val_loss: 0.5912 - val_accuracy: 0.7984\n"
     ]
    }
   ],
   "source": [
    "history = model.fit(x=X_train_images,y=np.array(y_train),verbose=1,validation_data=(X_valid_images,np.array(y_valid)),epochs=1)"
   ]
  },
  {
   "cell_type": "code",
   "execution_count": 14,
   "id": "233682d9",
   "metadata": {},
   "outputs": [
    {
     "name": "stdout",
     "output_type": "stream",
     "text": [
      "6563/6563 [==============================] - 1512s 230ms/step - loss: 0.2673 - accuracy: 0.8967 - val_loss: 0.2366 - val_accuracy: 0.9022\n"
     ]
    }
   ],
   "source": [
    "history = model.fit(x=X_train_images,y=np.array(y_train),verbose=1,validation_data=(X_valid_images,np.array(y_valid)),epochs=1)"
   ]
  },
  {
   "cell_type": "code",
   "execution_count": 15,
   "id": "08ffad5d",
   "metadata": {},
   "outputs": [
    {
     "data": {
      "text/plain": [
       "['0b2ea2a822ad23fdb1b5dd26653da899fbd2c0d5.tif',\n",
       " '95596b92e5066c5c52466c90b69ff089b39f2737.tif',\n",
       " '248e6738860e2ebcf6258cdc1f32f299e0c76914.tif',\n",
       " '2c35657e312966e9294eac6841726ff3a748febf.tif',\n",
       " '145782eb7caa1c516acbe2eda34d9a3f31c41fd6.tif',\n",
       " '725dabe6ecccc68b958a2c7dd75bcbf362c7cb03.tif',\n",
       " 'aa0307865281d4484ddf8c637c348292968b93a7.tif',\n",
       " 'f4e5dc9c949920f1b3362982e15e99bf6f3ef83b.tif',\n",
       " '95e08c9cedc28a9b4a86f4fc1e06c1972134be08.tif',\n",
       " 'ee1f5345a8d4e28403b7e61b97b5f76c201ce9cb.tif']"
      ]
     },
     "execution_count": 15,
     "metadata": {},
     "output_type": "execute_result"
    }
   ],
   "source": [
    "sample = pd.read_csv('./data/sample_submission.csv')\n",
    "sample_names = list(sample['id'])\n",
    "sample_names[0:20]\n",
    "## train_images = [ name + '.tif' for name in train_images]\n",
    "test_images = [name + '.tif' for name in sample_names]\n",
    "test_images[0:10]"
   ]
  },
  {
   "cell_type": "code",
   "execution_count": 16,
   "id": "f9712e28",
   "metadata": {},
   "outputs": [
    {
     "name": "stdout",
     "output_type": "stream",
     "text": [
      "(57458, 96, 96, 3)\n"
     ]
    }
   ],
   "source": [
    "X_test_images = read_image_collection(test_images, './data/test/')\n",
    "print(X_test_images.shape)"
   ]
  },
  {
   "cell_type": "code",
   "execution_count": 29,
   "id": "045d6976",
   "metadata": {},
   "outputs": [
    {
     "name": "stdout",
     "output_type": "stream",
     "text": [
      "(57458, 96, 96, 3)\n"
     ]
    }
   ],
   "source": [
    "print(X_test_images.shape)"
   ]
  },
  {
   "cell_type": "code",
   "execution_count": 18,
   "id": "43357b6a",
   "metadata": {},
   "outputs": [
    {
     "name": "stdout",
     "output_type": "stream",
     "text": [
      "[[9.8284036e-02]\n",
      " [1.8831897e-01]\n",
      " [2.6741624e-04]\n",
      " [2.2318307e-01]\n",
      " [8.0793828e-02]\n",
      " [8.3976448e-01]\n",
      " [8.6654139e-01]\n",
      " [6.4624548e-01]\n",
      " [4.7800064e-02]\n",
      " [2.5816917e-01]]\n"
     ]
    }
   ],
   "source": [
    "## predictions = (model.predict(X_test_images) > 0.5).astype(\"int32\")\n",
    "predict_proba = model.predict(X_test_images)\n",
    "## predictions[0:10]\n",
    "print(predict_proba[0:10])\n"
   ]
  },
  {
   "cell_type": "code",
   "execution_count": 19,
   "id": "8a30160b",
   "metadata": {},
   "outputs": [
    {
     "name": "stdout",
     "output_type": "stream",
     "text": [
      "[[0]\n",
      " [0]\n",
      " [0]\n",
      " [0]\n",
      " [0]\n",
      " [1]\n",
      " [1]\n",
      " [1]\n",
      " [0]\n",
      " [0]]\n",
      "[21719]\n",
      "57458\n"
     ]
    }
   ],
   "source": [
    "predictions = (predict_proba > 0.5).astype(\"int32\")\n",
    "print(predictions[0:10])\n",
    "print(sum(predictions))\n",
    "print(len(predictions))"
   ]
  },
  {
   "cell_type": "code",
   "execution_count": 20,
   "id": "42214319",
   "metadata": {},
   "outputs": [],
   "source": [
    "df = pd.DataFrame(sample_names)\n"
   ]
  },
  {
   "cell_type": "code",
   "execution_count": 21,
   "id": "81b2727a",
   "metadata": {},
   "outputs": [
    {
     "data": {
      "text/html": [
       "<div>\n",
       "<style scoped>\n",
       "    .dataframe tbody tr th:only-of-type {\n",
       "        vertical-align: middle;\n",
       "    }\n",
       "\n",
       "    .dataframe tbody tr th {\n",
       "        vertical-align: top;\n",
       "    }\n",
       "\n",
       "    .dataframe thead th {\n",
       "        text-align: right;\n",
       "    }\n",
       "</style>\n",
       "<table border=\"1\" class=\"dataframe\">\n",
       "  <thead>\n",
       "    <tr style=\"text-align: right;\">\n",
       "      <th></th>\n",
       "      <th>id</th>\n",
       "      <th>label</th>\n",
       "    </tr>\n",
       "  </thead>\n",
       "  <tbody>\n",
       "    <tr>\n",
       "      <th>0</th>\n",
       "      <td>0b2ea2a822ad23fdb1b5dd26653da899fbd2c0d5</td>\n",
       "      <td>0</td>\n",
       "    </tr>\n",
       "    <tr>\n",
       "      <th>1</th>\n",
       "      <td>95596b92e5066c5c52466c90b69ff089b39f2737</td>\n",
       "      <td>0</td>\n",
       "    </tr>\n",
       "    <tr>\n",
       "      <th>2</th>\n",
       "      <td>248e6738860e2ebcf6258cdc1f32f299e0c76914</td>\n",
       "      <td>0</td>\n",
       "    </tr>\n",
       "    <tr>\n",
       "      <th>3</th>\n",
       "      <td>2c35657e312966e9294eac6841726ff3a748febf</td>\n",
       "      <td>0</td>\n",
       "    </tr>\n",
       "    <tr>\n",
       "      <th>4</th>\n",
       "      <td>145782eb7caa1c516acbe2eda34d9a3f31c41fd6</td>\n",
       "      <td>0</td>\n",
       "    </tr>\n",
       "    <tr>\n",
       "      <th>...</th>\n",
       "      <td>...</td>\n",
       "      <td>...</td>\n",
       "    </tr>\n",
       "    <tr>\n",
       "      <th>57453</th>\n",
       "      <td>061847314ded6f81e1cd670748bfa2003442c9c7</td>\n",
       "      <td>0</td>\n",
       "    </tr>\n",
       "    <tr>\n",
       "      <th>57454</th>\n",
       "      <td>6f3977130212641fd5808210015a609c658dcbff</td>\n",
       "      <td>0</td>\n",
       "    </tr>\n",
       "    <tr>\n",
       "      <th>57455</th>\n",
       "      <td>46935f247278539eca74b54d07d666efb528a753</td>\n",
       "      <td>0</td>\n",
       "    </tr>\n",
       "    <tr>\n",
       "      <th>57456</th>\n",
       "      <td>a09bcae08a82120183352e0e869181b2911d3dc1</td>\n",
       "      <td>0</td>\n",
       "    </tr>\n",
       "    <tr>\n",
       "      <th>57457</th>\n",
       "      <td>d29233dc0b90c2e1a8fcedbc3e1234c3d4dbd55b</td>\n",
       "      <td>0</td>\n",
       "    </tr>\n",
       "  </tbody>\n",
       "</table>\n",
       "<p>57458 rows × 2 columns</p>\n",
       "</div>"
      ],
      "text/plain": [
       "                                             id  label\n",
       "0      0b2ea2a822ad23fdb1b5dd26653da899fbd2c0d5      0\n",
       "1      95596b92e5066c5c52466c90b69ff089b39f2737      0\n",
       "2      248e6738860e2ebcf6258cdc1f32f299e0c76914      0\n",
       "3      2c35657e312966e9294eac6841726ff3a748febf      0\n",
       "4      145782eb7caa1c516acbe2eda34d9a3f31c41fd6      0\n",
       "...                                         ...    ...\n",
       "57453  061847314ded6f81e1cd670748bfa2003442c9c7      0\n",
       "57454  6f3977130212641fd5808210015a609c658dcbff      0\n",
       "57455  46935f247278539eca74b54d07d666efb528a753      0\n",
       "57456  a09bcae08a82120183352e0e869181b2911d3dc1      0\n",
       "57457  d29233dc0b90c2e1a8fcedbc3e1234c3d4dbd55b      0\n",
       "\n",
       "[57458 rows x 2 columns]"
      ]
     },
     "execution_count": 21,
     "metadata": {},
     "output_type": "execute_result"
    }
   ],
   "source": [
    "df.columns= ['id']\n",
    "df['label'] = predictions\n",
    "df\n"
   ]
  },
  {
   "cell_type": "code",
   "execution_count": 22,
   "id": "5db0755b",
   "metadata": {},
   "outputs": [],
   "source": [
    "df.to_csv('./data/submission5.csv',index=False)\n"
   ]
  },
  {
   "cell_type": "code",
   "execution_count": 31,
   "id": "9ba473f1",
   "metadata": {
    "scrolled": true
   },
   "outputs": [
    {
     "name": "stdout",
     "output_type": "stream",
     "text": [
      "6563/6563 [==============================] - 1577s 240ms/step - loss: 0.2079 - accuracy: 0.9236 - val_loss: 0.1988 - val_accuracy: 0.9204\n"
     ]
    }
   ],
   "source": [
    "history = model.fit(x=X_train_images,y=np.array(y_train),verbose=1,validation_data=(X_valid_images,np.array(y_valid)),epochs=1)"
   ]
  },
  {
   "cell_type": "code",
   "execution_count": 47,
   "id": "d2a518db",
   "metadata": {},
   "outputs": [
    {
     "name": "stdout",
     "output_type": "stream",
     "text": [
      "[[0.12824914]\n",
      " [0.13647434]\n",
      " [0.01596794]\n",
      " [0.00796136]\n",
      " [0.03118736]\n",
      " [0.01182798]\n",
      " [0.7538475 ]\n",
      " [0.01005638]\n",
      " [0.17919028]\n",
      " [0.00708053]]\n",
      "[[0]\n",
      " [0]\n",
      " [0]\n",
      " [0]\n",
      " [0]\n",
      " [0]\n",
      " [1]\n",
      " [0]\n",
      " [0]\n",
      " [0]]\n",
      "[11197]\n",
      "57458\n",
      "Submission 11\n"
     ]
    }
   ],
   "source": [
    "## predictions = (model.predict(X_test_images) > 0.5).astype(\"int32\")\n",
    "predict_proba = model.predict(X_test_images)\n",
    "## predictions[0:10]\n",
    "print(predict_proba[0:10])\n",
    "predictions = (predict_proba > 0.5).astype(\"int32\")\n",
    "print(predictions[0:10])\n",
    "print(sum(predictions))\n",
    "print(len(predictions))\n",
    "df = pd.DataFrame(sample_names)\n",
    "df.columns= ['id']\n",
    "df['label'] = predictions\n",
    "df\n",
    "df.to_csv('./data/submission11.csv',index=False)\n",
    "print('Submission 11')"
   ]
  },
  {
   "cell_type": "code",
   "execution_count": null,
   "id": "eb955e8a",
   "metadata": {},
   "outputs": [],
   "source": []
  }
 ],
 "metadata": {
  "kernelspec": {
   "display_name": "Python 3 (ipykernel)",
   "language": "python",
   "name": "python3"
  },
  "language_info": {
   "codemirror_mode": {
    "name": "ipython",
    "version": 3
   },
   "file_extension": ".py",
   "mimetype": "text/x-python",
   "name": "python",
   "nbconvert_exporter": "python",
   "pygments_lexer": "ipython3",
   "version": "3.7.11"
  }
 },
 "nbformat": 4,
 "nbformat_minor": 5
}
