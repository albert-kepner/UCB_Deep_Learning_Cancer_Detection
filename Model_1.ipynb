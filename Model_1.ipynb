{
 "cells": [
  {
   "cell_type": "code",
   "execution_count": 1,
   "id": "d928dfc4",
   "metadata": {},
   "outputs": [
    {
     "name": "stdout",
     "output_type": "stream",
     "text": [
      "C:\\Users\\e7zv5qo\\Jupyter_Notebooks\\UCB_Deep_Learning_03\\Module3\n"
     ]
    }
   ],
   "source": [
    "import os \n",
    "import sys \n",
    "import zipfile\n",
    "\n",
    "from skimage.io import imread\n",
    "\n",
    "import numpy as np\n",
    "import pandas as pd\n",
    "import tensorflow as tf\n",
    "\n",
    "import numpy as np\n",
    "def scale_image(image1):\n",
    "    im = image1.astype(np.float32)\n",
    "    im /= 255\n",
    "    return im\n",
    "\n",
    "print(os.getcwd())"
   ]
  },
  {
   "cell_type": "code",
   "execution_count": 2,
   "id": "94ad45dc",
   "metadata": {},
   "outputs": [
    {
     "name": "stdout",
     "output_type": "stream",
     "text": [
      "                                              id  label\n",
      "0       f38a6374c348f90b587e046aac6079959adf3835      0\n",
      "1       c18f2d887b7ae4f6742ee445113fa1aef383ed77      1\n",
      "2       755db6279dae599ebb4d39a9123cce439965282d      0\n",
      "3       bc3f0c64fb968ff4a8bd33af6971ecae77c75e08      0\n",
      "4       068aba587a4950175d04c680d38943fd488d6a9d      0\n",
      "...                                          ...    ...\n",
      "220020  53e9aa9d46e720bf3c6a7528d1fca3ba6e2e49f6      0\n",
      "220021  d4b854fe38b07fe2831ad73892b3cec877689576      1\n",
      "220022  3d046cead1a2a5cbe00b2b4847cfb7ba7cf5fe75      0\n",
      "220023  f129691c13433f66e1e0671ff1fe80944816f5a2      0\n",
      "220024  a81f84895ddcd522302ddf34be02eb1b3e5af1cb      1\n",
      "\n",
      "[220025 rows x 2 columns]\n",
      "['f38a6374c348f90b587e046aac6079959adf3835.tif', 'c18f2d887b7ae4f6742ee445113fa1aef383ed77.tif', '755db6279dae599ebb4d39a9123cce439965282d.tif', 'bc3f0c64fb968ff4a8bd33af6971ecae77c75e08.tif', '068aba587a4950175d04c680d38943fd488d6a9d.tif']\n"
     ]
    }
   ],
   "source": [
    "train_labels = pd.read_csv(\"./data/train_labels.csv\")\n",
    "print(train_labels)\n",
    "train_images = list(train_labels['id'])\n",
    "train_images = [ name + '.tif' for name in train_images]\n",
    "labels = list(train_labels['label'])\n",
    "print(train_images[0:5])"
   ]
  },
  {
   "cell_type": "code",
   "execution_count": 3,
   "id": "236a6bdf",
   "metadata": {},
   "outputs": [
    {
     "name": "stdout",
     "output_type": "stream",
     "text": [
      "150000\n",
      "150000\n",
      "70025\n",
      "70025\n",
      "[1, 1, 0, 0, 0, 0, 0, 1, 0, 0]\n",
      "0.40503124644926713\n"
     ]
    }
   ],
   "source": [
    "from sklearn.model_selection import train_test_split\n",
    "X_train, X_valid, y_train, y_valid = train_test_split(train_images, labels, random_state=0, train_size = 150000)\n",
    "print(len(X_train))\n",
    "print(len(y_train))\n",
    "print(len(X_valid))\n",
    "print(len(y_valid))\n",
    "print(y_train[0:10])\n",
    "print(np.mean(labels))"
   ]
  },
  {
   "cell_type": "code",
   "execution_count": 4,
   "id": "98ea3c9f",
   "metadata": {},
   "outputs": [],
   "source": [
    "def read_image_collection(file_list, file_path):\n",
    "    return np.array([\n",
    "        scale_image(imread(file_path+file_name))\n",
    "        for file_name in file_list])"
   ]
  },
  {
   "cell_type": "code",
   "execution_count": 5,
   "id": "c58a8cca",
   "metadata": {},
   "outputs": [
    {
     "name": "stdout",
     "output_type": "stream",
     "text": [
      "['2b21e7a0fae2f857c5a34f185b371e0db653fc44.tif', 'a050c93c3af5af6150e00e99b5d06413af6fbfd9.tif', '652c1edb16752b3c21085c87fda08989fde5f76e.tif', '64b8633a2bcfdacba25ffc30415130b20b779950.tif', '17987540920ea1427c9b3f0beeba2c1507d02632.tif']\n"
     ]
    }
   ],
   "source": [
    "print(X_train[0:5])"
   ]
  },
  {
   "cell_type": "code",
   "execution_count": 24,
   "id": "42f2f2d2",
   "metadata": {},
   "outputs": [
    {
     "name": "stdout",
     "output_type": "stream",
     "text": [
      "(150000, 96, 96, 3)\n",
      "(70025, 96, 96, 3)\n",
      "Ready\n"
     ]
    }
   ],
   "source": [
    "X_train_images = read_image_collection(X_train, './data/train/')\n",
    "print(X_train_images.shape)\n",
    "X_valid_images = read_image_collection(X_valid, './data/train/')\n",
    "print(X_valid_images.shape)\n",
    "print('Ready')"
   ]
  },
  {
   "cell_type": "code",
   "execution_count": 7,
   "id": "2c8f1b25",
   "metadata": {},
   "outputs": [
    {
     "name": "stdout",
     "output_type": "stream",
     "text": [
      "16.5888\n"
     ]
    }
   ],
   "source": [
    "gbytes = 150000 * 96 * 96 * 3 * 4/ 10**9\n",
    "print(gbytes)"
   ]
  },
  {
   "cell_type": "code",
   "execution_count": 32,
   "id": "39103d5a",
   "metadata": {},
   "outputs": [
    {
     "name": "stdout",
     "output_type": "stream",
     "text": [
      "Model: \"sequential_1\"\n",
      "_________________________________________________________________\n",
      "Layer (type)                 Output Shape              Param #   \n",
      "=================================================================\n",
      "conv2d_5 (Conv2D)            (None, 94, 94, 64)        1792      \n",
      "_________________________________________________________________\n",
      "max_pooling2d_3 (MaxPooling2 (None, 47, 47, 64)        0         \n",
      "_________________________________________________________________\n",
      "conv2d_6 (Conv2D)            (None, 45, 45, 128)       73856     \n",
      "_________________________________________________________________\n",
      "conv2d_7 (Conv2D)            (None, 43, 43, 128)       147584    \n",
      "_________________________________________________________________\n",
      "max_pooling2d_4 (MaxPooling2 (None, 21, 21, 128)       0         \n",
      "_________________________________________________________________\n",
      "conv2d_8 (Conv2D)            (None, 19, 19, 256)       295168    \n",
      "_________________________________________________________________\n",
      "conv2d_9 (Conv2D)            (None, 17, 17, 256)       590080    \n",
      "_________________________________________________________________\n",
      "max_pooling2d_5 (MaxPooling2 (None, 8, 8, 256)         0         \n",
      "_________________________________________________________________\n",
      "flatten_1 (Flatten)          (None, 16384)             0         \n",
      "_________________________________________________________________\n",
      "dense_3 (Dense)              (None, 128)               2097280   \n",
      "_________________________________________________________________\n",
      "dropout_2 (Dropout)          (None, 128)               0         \n",
      "_________________________________________________________________\n",
      "dense_4 (Dense)              (None, 64)                8256      \n",
      "_________________________________________________________________\n",
      "dropout_3 (Dropout)          (None, 64)                0         \n",
      "_________________________________________________________________\n",
      "dense_5 (Dense)              (None, 1)                 65        \n",
      "=================================================================\n",
      "Total params: 3,214,081\n",
      "Trainable params: 3,214,081\n",
      "Non-trainable params: 0\n",
      "_________________________________________________________________\n"
     ]
    }
   ],
   "source": [
    "from tensorflow import keras\n",
    "\n",
    "def modelArch1():\n",
    "    model = keras.models.Sequential([\n",
    "        keras.layers.Conv2D(64, 3, activation='relu', padding='valid',\n",
    "                           input_shape=[96,96,3]),\n",
    "        keras.layers.MaxPool2D(2),\n",
    "        keras.layers.Conv2D(128, 3, activation=tf.nn.relu, padding='valid'),\n",
    "        keras.layers.Conv2D(128, 3,activation=tf.nn.relu, padding='valid'),\n",
    "        keras.layers.MaxPool2D(2),\n",
    "        keras.layers.Conv2D(256, 3, activation=tf.nn.relu, padding='valid'),\n",
    "        keras.layers.Conv2D(256, 3, activation=tf.nn.relu, padding='valid'),\n",
    "        keras.layers.MaxPool2D(2),\n",
    "        keras.layers.Flatten(),\n",
    "        keras.layers.Dense(128, activation=tf.nn.relu),\n",
    "        keras.layers.Dropout(0.5),\n",
    "        keras.layers.Dense(64,  activation=tf.nn.relu),\n",
    "        keras.layers.Dropout(0.5),\n",
    "        keras.layers.Dense(1, activation=tf.nn.sigmoid),\n",
    "    ])\n",
    "    return model\n",
    "\n",
    "model = modelArch1()\n",
    "model.summary()"
   ]
  },
  {
   "cell_type": "code",
   "execution_count": 33,
   "id": "e2bc45ef",
   "metadata": {},
   "outputs": [],
   "source": [
    "opt = keras.optimizers.Adam(learning_rate=0.0005)\n",
    "loss = keras.losses.BinaryCrossentropy()\n",
    "model.compile(optimizer=opt, loss=loss, metrics=['accuracy'])"
   ]
  },
  {
   "cell_type": "code",
   "execution_count": 34,
   "id": "a9d40da6",
   "metadata": {},
   "outputs": [
    {
     "name": "stdout",
     "output_type": "stream",
     "text": [
      "4688/4688 [==============================] - 3277s 699ms/step - loss: 0.4618 - accuracy: 0.7862 - val_loss: 0.3847 - val_accuracy: 0.8340\n"
     ]
    }
   ],
   "source": [
    "history = model.fit(x=X_train_images,y=np.array(y_train),verbose=1,validation_data=(X_valid_images,np.array(y_valid)),epochs=1)"
   ]
  },
  {
   "cell_type": "code",
   "execution_count": 40,
   "id": "4cee0323",
   "metadata": {},
   "outputs": [
    {
     "name": "stdout",
     "output_type": "stream",
     "text": [
      "4688/4688 [==============================] - 3243s 692ms/step - loss: 0.3365 - accuracy: 0.8614 - val_loss: 0.2799 - val_accuracy: 0.8855\n"
     ]
    }
   ],
   "source": [
    "history = model.fit(x=X_train_images,y=np.array(y_train),verbose=1,validation_data=(X_valid_images,np.array(y_valid)),epochs=1)"
   ]
  },
  {
   "cell_type": "code",
   "execution_count": 12,
   "id": "07ea25fc",
   "metadata": {},
   "outputs": [
    {
     "data": {
      "text/plain": [
       "<tensorflow.python.keras.callbacks.History at 0x214f8ec12c8>"
      ]
     },
     "execution_count": 12,
     "metadata": {},
     "output_type": "execute_result"
    }
   ],
   "source": [
    "history = model.fit(x=X_train_images,y=np.array(y_train),verbose=1,validation_data=(X_valid_images,np.array(y_valid)),epochs=1)"
   ]
  },
  {
   "cell_type": "code",
   "execution_count": 14,
   "id": "cc67b78d",
   "metadata": {},
   "outputs": [
    {
     "data": {
      "text/plain": [
       "['0b2ea2a822ad23fdb1b5dd26653da899fbd2c0d5.tif',\n",
       " '95596b92e5066c5c52466c90b69ff089b39f2737.tif',\n",
       " '248e6738860e2ebcf6258cdc1f32f299e0c76914.tif',\n",
       " '2c35657e312966e9294eac6841726ff3a748febf.tif',\n",
       " '145782eb7caa1c516acbe2eda34d9a3f31c41fd6.tif',\n",
       " '725dabe6ecccc68b958a2c7dd75bcbf362c7cb03.tif',\n",
       " 'aa0307865281d4484ddf8c637c348292968b93a7.tif',\n",
       " 'f4e5dc9c949920f1b3362982e15e99bf6f3ef83b.tif',\n",
       " '95e08c9cedc28a9b4a86f4fc1e06c1972134be08.tif',\n",
       " 'ee1f5345a8d4e28403b7e61b97b5f76c201ce9cb.tif']"
      ]
     },
     "execution_count": 14,
     "metadata": {},
     "output_type": "execute_result"
    }
   ],
   "source": [
    "sample = pd.read_csv('./data/sample_submission.csv')\n",
    "sample_names = list(sample['id'])\n",
    "sample_names[0:20]\n",
    "## train_images = [ name + '.tif' for name in train_images]\n",
    "test_images = [name + '.tif' for name in sample_names]\n",
    "test_images[0:10]"
   ]
  },
  {
   "cell_type": "code",
   "execution_count": 15,
   "id": "52297eed",
   "metadata": {},
   "outputs": [
    {
     "name": "stdout",
     "output_type": "stream",
     "text": [
      "(57458, 96, 96, 3)\n"
     ]
    }
   ],
   "source": [
    "X_test_images = read_image_collection(test_images, './data/test/')\n",
    "print(X_test_images.shape)"
   ]
  },
  {
   "cell_type": "code",
   "execution_count": 26,
   "id": "8157c483",
   "metadata": {},
   "outputs": [
    {
     "name": "stdout",
     "output_type": "stream",
     "text": [
      "(57458, 96, 96, 3)\n"
     ]
    }
   ],
   "source": [
    "print(X_test_images.shape)"
   ]
  },
  {
   "cell_type": "code",
   "execution_count": 41,
   "id": "af6cc7e2",
   "metadata": {},
   "outputs": [
    {
     "name": "stdout",
     "output_type": "stream",
     "text": [
      "[[0.04834113]\n",
      " [0.11054495]\n",
      " [0.0078705 ]\n",
      " [0.10122654]\n",
      " [0.2661528 ]\n",
      " [0.23163694]\n",
      " [0.3882869 ]\n",
      " [0.56499034]\n",
      " [0.02379045]\n",
      " [0.6751522 ]]\n"
     ]
    }
   ],
   "source": [
    "## predictions = (model.predict(X_test_images) > 0.5).astype(\"int32\")\n",
    "predict_proba = model.predict(X_test_images)\n",
    "## predictions[0:10]\n",
    "print(predict_proba[0:10])\n"
   ]
  },
  {
   "cell_type": "code",
   "execution_count": 36,
   "id": "3ff4bd16",
   "metadata": {},
   "outputs": [
    {
     "name": "stdout",
     "output_type": "stream",
     "text": [
      "[[0]\n",
      " [1]\n",
      " [0]\n",
      " [0]\n",
      " [0]\n",
      " [0]\n",
      " [1]\n",
      " [1]\n",
      " [1]\n",
      " [1]]\n",
      "[25660]\n",
      "57458\n"
     ]
    }
   ],
   "source": [
    "predictions = (predict_proba > 0.5).astype(\"int32\")\n",
    "print(predictions[0:10])\n",
    "print(sum(predictions))\n",
    "print(len(predictions))"
   ]
  },
  {
   "cell_type": "code",
   "execution_count": 42,
   "id": "be2417d8",
   "metadata": {},
   "outputs": [
    {
     "name": "stdout",
     "output_type": "stream",
     "text": [
      "[[0]\n",
      " [0]\n",
      " [0]\n",
      " [0]\n",
      " [0]\n",
      " [0]\n",
      " [0]\n",
      " [1]\n",
      " [0]\n",
      " [1]]\n",
      "[18879]\n",
      "57458\n"
     ]
    }
   ],
   "source": [
    "predictions = (predict_proba > 0.5).astype(\"int32\")\n",
    "print(predictions[0:10])\n",
    "print(sum(predictions))\n",
    "print(len(predictions))"
   ]
  },
  {
   "cell_type": "code",
   "execution_count": 43,
   "id": "822a5304",
   "metadata": {},
   "outputs": [],
   "source": [
    "df = pd.DataFrame(sample_names)\n"
   ]
  },
  {
   "cell_type": "code",
   "execution_count": 44,
   "id": "e237c2a2",
   "metadata": {},
   "outputs": [
    {
     "data": {
      "text/html": [
       "<div>\n",
       "<style scoped>\n",
       "    .dataframe tbody tr th:only-of-type {\n",
       "        vertical-align: middle;\n",
       "    }\n",
       "\n",
       "    .dataframe tbody tr th {\n",
       "        vertical-align: top;\n",
       "    }\n",
       "\n",
       "    .dataframe thead th {\n",
       "        text-align: right;\n",
       "    }\n",
       "</style>\n",
       "<table border=\"1\" class=\"dataframe\">\n",
       "  <thead>\n",
       "    <tr style=\"text-align: right;\">\n",
       "      <th></th>\n",
       "      <th>id</th>\n",
       "      <th>label</th>\n",
       "    </tr>\n",
       "  </thead>\n",
       "  <tbody>\n",
       "    <tr>\n",
       "      <th>0</th>\n",
       "      <td>0b2ea2a822ad23fdb1b5dd26653da899fbd2c0d5</td>\n",
       "      <td>0</td>\n",
       "    </tr>\n",
       "    <tr>\n",
       "      <th>1</th>\n",
       "      <td>95596b92e5066c5c52466c90b69ff089b39f2737</td>\n",
       "      <td>0</td>\n",
       "    </tr>\n",
       "    <tr>\n",
       "      <th>2</th>\n",
       "      <td>248e6738860e2ebcf6258cdc1f32f299e0c76914</td>\n",
       "      <td>0</td>\n",
       "    </tr>\n",
       "    <tr>\n",
       "      <th>3</th>\n",
       "      <td>2c35657e312966e9294eac6841726ff3a748febf</td>\n",
       "      <td>0</td>\n",
       "    </tr>\n",
       "    <tr>\n",
       "      <th>4</th>\n",
       "      <td>145782eb7caa1c516acbe2eda34d9a3f31c41fd6</td>\n",
       "      <td>0</td>\n",
       "    </tr>\n",
       "    <tr>\n",
       "      <th>...</th>\n",
       "      <td>...</td>\n",
       "      <td>...</td>\n",
       "    </tr>\n",
       "    <tr>\n",
       "      <th>57453</th>\n",
       "      <td>061847314ded6f81e1cd670748bfa2003442c9c7</td>\n",
       "      <td>0</td>\n",
       "    </tr>\n",
       "    <tr>\n",
       "      <th>57454</th>\n",
       "      <td>6f3977130212641fd5808210015a609c658dcbff</td>\n",
       "      <td>0</td>\n",
       "    </tr>\n",
       "    <tr>\n",
       "      <th>57455</th>\n",
       "      <td>46935f247278539eca74b54d07d666efb528a753</td>\n",
       "      <td>0</td>\n",
       "    </tr>\n",
       "    <tr>\n",
       "      <th>57456</th>\n",
       "      <td>a09bcae08a82120183352e0e869181b2911d3dc1</td>\n",
       "      <td>0</td>\n",
       "    </tr>\n",
       "    <tr>\n",
       "      <th>57457</th>\n",
       "      <td>d29233dc0b90c2e1a8fcedbc3e1234c3d4dbd55b</td>\n",
       "      <td>0</td>\n",
       "    </tr>\n",
       "  </tbody>\n",
       "</table>\n",
       "<p>57458 rows × 2 columns</p>\n",
       "</div>"
      ],
      "text/plain": [
       "                                             id  label\n",
       "0      0b2ea2a822ad23fdb1b5dd26653da899fbd2c0d5      0\n",
       "1      95596b92e5066c5c52466c90b69ff089b39f2737      0\n",
       "2      248e6738860e2ebcf6258cdc1f32f299e0c76914      0\n",
       "3      2c35657e312966e9294eac6841726ff3a748febf      0\n",
       "4      145782eb7caa1c516acbe2eda34d9a3f31c41fd6      0\n",
       "...                                         ...    ...\n",
       "57453  061847314ded6f81e1cd670748bfa2003442c9c7      0\n",
       "57454  6f3977130212641fd5808210015a609c658dcbff      0\n",
       "57455  46935f247278539eca74b54d07d666efb528a753      0\n",
       "57456  a09bcae08a82120183352e0e869181b2911d3dc1      0\n",
       "57457  d29233dc0b90c2e1a8fcedbc3e1234c3d4dbd55b      0\n",
       "\n",
       "[57458 rows x 2 columns]"
      ]
     },
     "execution_count": 44,
     "metadata": {},
     "output_type": "execute_result"
    }
   ],
   "source": [
    "df.columns= ['id']\n",
    "df['label'] = predictions\n",
    "df\n"
   ]
  },
  {
   "cell_type": "code",
   "execution_count": 45,
   "id": "15fc1ee4",
   "metadata": {},
   "outputs": [],
   "source": [
    "df.to_csv('./data/submission4.csv',index=False)\n"
   ]
  },
  {
   "cell_type": "code",
   "execution_count": null,
   "id": "4d5a5c3e",
   "metadata": {},
   "outputs": [],
   "source": []
  }
 ],
 "metadata": {
  "kernelspec": {
   "display_name": "Python 3 (ipykernel)",
   "language": "python",
   "name": "python3"
  },
  "language_info": {
   "codemirror_mode": {
    "name": "ipython",
    "version": 3
   },
   "file_extension": ".py",
   "mimetype": "text/x-python",
   "name": "python",
   "nbconvert_exporter": "python",
   "pygments_lexer": "ipython3",
   "version": "3.7.11"
  }
 },
 "nbformat": 4,
 "nbformat_minor": 5
}
